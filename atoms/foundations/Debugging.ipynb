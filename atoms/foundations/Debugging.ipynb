{
 "cells": [
  {
   "cell_type": "markdown",
   "metadata": {},
   "source": [
    "# Notebook-3: Dealing with Errors & Debugging\n",
    "\n",
    "- Contributors: Michele Ferretti (mic.ferretti@gmail.com); Jon Reades (jon@reades.com); James Millington (james.millington@kcl.ac.uk)"
   ]
  },
  {
   "cell_type": "markdown",
   "metadata": {},
   "source": [
    "#### Lesson Topics: \n",
    "\n",
    "- Introduction to errors \n",
    "    - Syntax Errors\n",
    "    - Exceptions \n",
    "- How to read errors\n",
    "-  Learn to find help\n",
    "\n",
    "This lesson is all about learning to deal with the (unavoidable) errors that you will encounter when programming in Python. Most programmers spend _most_ of their day dealing with errors of one sort or another: sometimes they are easy to solve (e.g. you mis-typed a variable name), other times they are very, very hard (e.g. you are writing a cloud computing platform and have to deal with competition for resources). Either way, learning how to find, diagnose, and resolve errors, as well as how to minimize their consequences, is a crucial skill for programmers. \n",
    "\n",
    "*DISCLAIMER: This notebook is heavily based on the [official Python Documentation](https://docs.python.org/2/tutorial/errors.html) about Errors and Exception. Check it out for further examples.*"
   ]
  },
  {
   "cell_type": "markdown",
   "metadata": {},
   "source": [
    "## Introduction to errors\n",
    "\n",
    "In the preceding notebooks we've already pointed out a few simple errors and made some suggestions about how to read them, but as you have seen when there's something wrong Python stops whatever it's doing and prints out an error message.\n",
    "\n",
    "Consider this:"
   ]
  },
  {
   "cell_type": "code",
   "execution_count": null,
   "metadata": {
    "collapsed": false
   },
   "outputs": [],
   "source": [
    "prnt( \"Ouch!\" )"
   ]
  },
  {
   "cell_type": "markdown",
   "metadata": {},
   "source": [
    "Or our familiar \"divsion by zero\" example:"
   ]
  },
  {
   "cell_type": "code",
   "execution_count": null,
   "metadata": {
    "collapsed": false
   },
   "outputs": [],
   "source": [
    "45 / 0"
   ]
  },
  {
   "cell_type": "markdown",
   "metadata": {},
   "source": [
    "As you can see, depending on what just broke we see different error messages fromy the Python interpreter. Although it's not the most crucial distinction, there are roughly two main kinds of errors: **Syntax Errors** and **Exceptions**."
   ]
  },
  {
   "cell_type": "markdown",
   "metadata": {},
   "source": [
    "## Syntax Errors\n",
    "\n",
    "A Syntax Error is likely to the be the most frequent that error you encounter when you're getting started. Syntax errors occur when the Python interpreter has trouble *[parsing](https://en.wikipedia.org/wiki/Parsing)* your code. In other words, it can read what you've typed, but it doesn't quite make sense.\n",
    "\n",
    "It's a bit like when someone who doesn't speak your language fluently makes a mistake that to you seems funny, but to them is quite natural because they're extrapolating from what they know in a different language. Many English-speakers who are 'embarassed' by their level of Spanish are apparently quite happy to inform Spanish-speakers that they are pregnant ('embarazada')! Or perhaps you think that the opposite of 'regardless' is 'irregardless'? These are natural mistakes, but they are 'errors' nonetheless. It's just that human beings – being smart – can figure out what you meant, while computers – being almost irredeemably stupid – cannot.\n",
    "\n",
    "### A simple typo\n",
    "In the first example for instance, the error consists in a misspelled `print` command:\n",
    "\n",
    "```python\n",
    "File \"<ipython-input-6-9bf4eef14fd8>\", line 1\n",
    "    prnt( \"Ouch!\" )\n",
    "               ^\n",
    "SyntaxError: invalid syntax\n",
    "```\n",
    "\n",
    "Let's read the error message together, from top-to-bottom: \n",
    "\n",
    "- First, the interpreter prints out the file name and the line number where it thinks the error can be found. In our simple case that's not a big deal since we only have two lines of code in that block anyway, but if you had thousands of lines of code spread across dozens of separate files this could be a life-saver!\n",
    "- In addition, Python also prints the _actual_ place on the line where it threw up its hands and said \"I can't read this!\" \n",
    "- It has even added a little 'caret' ( ‸ ) to try to point out where on that line it _thinks_ the error really is. We wouldn't recommend that you study _only_ that bit of code (it pointed to 'Ouch!' after all, not to `prnt`) but it's not a bad place to start...\n",
    "- Lastly, Python prints out very clearly that the error is something to do with the syntax.\n",
    "\n",
    "```python\n",
    "SyntaxError: invalid syntax\n",
    "```\n",
    "\n",
    "If you're trying to track down a bug, it really can't get better than this. It's not _perfect_ because it points at part of the line that is technically 'ok', but that's because this is the point at which the Python interpreter realises it has no idea what's going on. But as long you don't focus on the idea that it's the excalamation mark that is the problem and look at the _context_ then it shouldn't take too long to figure it out. \n",
    "\n",
    "To make it even easier, notice that when you change `prnt` to <span style=\"color:green;font-weight:bold;font-family:monospace\">print</span> it changes the colour and weight of the text as well to highlight that it now knows what you mean.\n",
    "\n",
    "Let's try to see if you can fix some bits of broken code by reading the errors and spotting the place where I've made some mistakes."
   ]
  },
  {
   "cell_type": "markdown",
   "metadata": {},
   "source": [
    "### A Challenge for You!\n",
    "\n",
    "Here are some little exercises to help you cement your understanding:"
   ]
  },
  {
   "cell_type": "code",
   "execution_count": null,
   "metadata": {
    "collapsed": false
   },
   "outputs": [],
   "source": [
    "projection=\"Cassini-Soldner\" \n",
    "print \"The \"  projection + \" preserves distances along the central meridian.\""
   ]
  },
  {
   "cell_type": "markdown",
   "metadata": {},
   "source": [
    "*Hint:* remember to look at what is happening *before* the caret!"
   ]
  },
  {
   "cell_type": "code",
   "execution_count": null,
   "metadata": {
    "collapsed": false
   },
   "outputs": [],
   "source": [
    "other_projection \"Mollweide\"\n",
    "print \"In the \" + other_projection + \" projection, meridians are ellipses.\""
   ]
  },
  {
   "cell_type": "markdown",
   "metadata": {},
   "source": [
    "*Hint:* which line is the error on?"
   ]
  },
  {
   "cell_type": "markdown",
   "metadata": {},
   "source": [
    "## Exceptions\n",
    "\n",
    "Even if your code is syntatically exemplary (i.e. it's all perfectly written before you hit 'run'), errors might still occur for a wide variety of reasons: your computer is freaking out, you're not online, you haven't defined a variable yet... Obviously, these aren't syntax errors because your code would ordinarly work fine, it's just that something is missing and we think this situation is... _exceptional_. \n",
    "\n",
    "To help you figure out which of the problems you've just hit, Python has the concept of exceptions and a huge taxonomy of specific errors ([here's a list](https://docs.python.org/2/library/exceptions.html)). That way, when something exceptional happens we know whether to restart the computer, check the Internet connection, or look for the place where the variable was supposedly defined.\n",
    "\n",
    "Let's start by considering these two *exception* examples (answers at the bottom of this section):"
   ]
  },
  {
   "cell_type": "code",
   "execution_count": null,
   "metadata": {
    "collapsed": false
   },
   "outputs": [],
   "source": [
    "print(London + \"has an approx. population of 8.5 million people.\")\n"
   ]
  },
  {
   "cell_type": "markdown",
   "metadata": {},
   "source": [
    "What do you think is going on here? What's the 'value' stored in the London variable here?"
   ]
  },
  {
   "cell_type": "code",
   "execution_count": null,
   "metadata": {
    "collapsed": false
   },
   "outputs": [],
   "source": [
    "print(\"London has an approx. population of\" + 8.5 + \"million people.\")\n"
   ]
  },
  {
   "cell_type": "markdown",
   "metadata": {},
   "source": [
    "We've seen this error before: remember that programmers don't like to write 'string' when they could write 'str', and that 'float' means 'floating point number'."
   ]
  },
  {
   "cell_type": "markdown",
   "metadata": {},
   "source": [
    "And now let's reconsider the \"Division By Zero\" Exception:"
   ]
  },
  {
   "cell_type": "code",
   "execution_count": null,
   "metadata": {
    "collapsed": false
   },
   "outputs": [],
   "source": [
    "4 / 0"
   ]
  },
  {
   "cell_type": "markdown",
   "metadata": {},
   "source": [
    "First of all we can see that every exception displays a specific message in the last line which gives you useful information about what just went wrong. That's because* exceptions* are different from plain *syntax errors* because they come in different types which are recognized by Python and printed accordingly. In our three examples above the *Exceptions* were: `NameError`, `TypeError`and `ZeroDivisionError`. These are the *exception types*.\n",
    "\n",
    "As with the *syntax errors*, the remaining part of the error message gives us useful pointers to how to go about fixing the code:\n",
    "\n",
    "- Once again Python starts with the location. This time though, it doesn't immediately point to a specific line but rather it explicits the *stack traceback*[1](https://en.wikipedia.org/wiki/Stack_trace)[2](https://en.wikipedia.org/wiki/Call_stack#STACK-FRAME) level (i.e. **very roughly speaking** the list of operations  active in your code) where some mischief happened. \n",
    "\n",
    "- Luckly, there's a line reference in the following line (see the purple arrow (--->) pointing at line 1)\n",
    "\n",
    "```python\n",
    "<ipython-input-23-d9b484deda59> in <module>()      \n",
    "----> 1 4 / 0\n",
    "ZeroDivisionError: integer division or modulo by zero\n",
    "\n",
    "```\n",
    "\n",
    "Do you see how these are different from *Syntax Errors* conceptually and that they require you to do something different? Indeed, *Exceptions* are clearly specified in the language for two main reasons:\n",
    "\n",
    "- It allows you to restrict the range of possibilities regarding what went wrong, allowing faster and easier debugging.  \n",
    "- Because exceptions  are \"named\" errors, they're easier for the programmer to \"catch\" when the code is running. \n",
    "\n",
    "In other words, you can't know in advance whether your application will always have Internet access, so rather than just having your program 'blow up' or say \"Can't run, sorry!\", wouldn't it be better if it printed a helpful message to the user saying \"Hey, I don't seem to be online. Can you check the network connection?\" So in Python, one part of the application can  'throw' an exception (\"Hey, I'm not online\") when it tries to download a file and then it's up to the application to _catch_ that problem and print a warning to the user.\n",
    "\n",
    "If you see any of the following commands `TRY/EXCEPT/FINALLY` then that means a programmer is trying to limit the damage that could be caused by an exception."
   ]
  },
  {
   "cell_type": "markdown",
   "metadata": {},
   "source": [
    "#### Answers\n",
    "\n",
    "Here are the answers to the first two exceptions:"
   ]
  },
  {
   "cell_type": "code",
   "execution_count": null,
   "metadata": {
    "collapsed": false
   },
   "outputs": [],
   "source": [
    "London = \"London\"\n",
    "print(London + \" has an approx. population of 8.5 million people.\")\n",
    "print(\"London has an approx. population of \" + str(8.5) + \" million people.\")"
   ]
  },
  {
   "cell_type": "markdown",
   "metadata": {},
   "source": [
    "So we solve the first exception by realising that we need to define a variable called 'London'; the fact that the _value_ of this variable is _also_ London is irrelevant.\n",
    "\n",
    "And we solve the second exception by _casting_ the number 8.5 to the string `\"8.5\"` using the magic of a function called `str()`. Woah, that was a _lot_ of new terminology just there -- we're going to to tackle these in subsequent notebooks."
   ]
  },
  {
   "cell_type": "markdown",
   "metadata": {},
   "source": [
    "### A Challenge for You!\n",
    "\n",
    "Some problems for you to sink your teeth into and test your understanding; solve these in a way that _makes sense_:"
   ]
  },
  {
   "cell_type": "code",
   "execution_count": null,
   "metadata": {
    "collapsed": false
   },
   "outputs": [],
   "source": [
    "london_population= 8600000\n",
    "print london_population + \" is greater than \" + paris_population "
   ]
  },
  {
   "cell_type": "markdown",
   "metadata": {},
   "source": [
    "HINT: define a new variable with the amount of people living in the French capital _AND_ think about the _type_ of data that `london_population` and `paris_population` hold."
   ]
  },
  {
   "cell_type": "code",
   "execution_count": null,
   "metadata": {
    "collapsed": false
   },
   "outputs": [],
   "source": [
    "paris_population = 2.4\n",
    "london_population / paris_population "
   ]
  },
  {
   "cell_type": "markdown",
   "metadata": {},
   "source": [
    "HINT: Remember that you can convert a number into a string with the appropriate function"
   ]
  },
  {
   "cell_type": "markdown",
   "metadata": {},
   "source": [
    "## What To Do When Things Go Wrong\n",
    "\n",
    "Here's a \"rule of thumb\" list of actions to take when Python throws an error at you:\n",
    "\n",
    "- *Don't Panic!*\n",
    "- Take a deep breath and read the error message *CAREFULLY*.\n",
    "- Ask yourself: is it a *Syntax Error* or an *Exception*?\n",
    "  - In both cases: what clues are there to where Python thinks the problem lies?\n",
    "  - For *Syntax Errors*: what's the little caret character ( ‸ ) pointing at?\n",
    "  - For *Exceptions*: what kind of exception is it? Read the [Official Docs](https://docs.python.org/2/library/exceptions.html) and try to make sense of it\n",
    "- *No, really. Don't Panic!*\n",
    "\n",
    "Also, and we can't say this enough: sometimes fixing _one_ error reveals _another_ one. You need to pay lots of attention here because if you are just waiting for your code to output the correct answer and aren't noticing that the error **_has changed_** then you might think that you're no closer to finding the answer when, in fact, you've just taken a big step forward. So you might fix a syntax error only to discover an exception lurking underneath and the _main_ clue is a change in the error text.\n",
    "\n",
    "### Fixing Code in Steps\n",
    "\n",
    "The other thing that many experienced programmers learn to do is to develop the code in _steps_: just as you are unlikely to sit down and write the next great American novel in one go, you're unlikely to be able to sit down and write a full computational geography analysis in one go! The _best_ way to tackle this problem -- and the best way to tackle a bug -- is to break it down into smaller pieces and solve those pieces one bit at a time.\n",
    "\n",
    "Let's try a simple example: imagine that you want to produce 100 maps, two for each American state, showing the location of the state capital on one, and the location of all of the other cities on the other. You don't try to write all of this in one go; here's how an experienced programmer solves it:\n",
    "\n",
    "1. Can I produce any kind of map of one state?\n",
    "2. Can I produce a map of one state showing the state capital?\n",
    "3. Can I produce a map of one state showing _not_ the state capital?\n",
    "4. Can I produce the same pair of maps for two states?\n",
    "5. Can I produce the same pair of maps for every state?\n",
    "\n",
    "We build from the simplest thing -- producing a map -- to the most complex thing -- producing maps for each and every state in small steps. And the way I've written \\#2 and \\#3 is deliberate because it's also a very computational way of thinking: if you can solve the problem of how to show the state capital on a map then you have very likely _also_ solved the problem of showing every city _except_ the state capital on a map (this connects to ideas of sets and loops which we'll cover in other sections). "
   ]
  },
  {
   "cell_type": "markdown",
   "metadata": {},
   "source": [
    "## Learning to Find Help\n",
    "\n",
    "As we briefly mentioned in the [Getting Started](./Getting_Started.ipynb) notebook, [Google is your friend!](http://lmgtfy.com/?q=%22Learning+what+questions+to+ask+is+a+skill+in+itself%22+-Somebody+smart). And we really mean it: if you don't understand what's going on or are wondering where to begin, try Googling it!\n",
    "\n",
    "Most of the time, the top few hits in Google will be links to:\n",
    "\n",
    "<img src=\"https://upload.wikimedia.org/wikipedia/commons/f/f7/Stack_Overflow_logo.png\" alt=\"StackOverflow Logo\" style=\"width:700px;\"/>\n",
    "\n",
    "Learning what to look for when something goes awry in your code is the first step to fixing it. The second is  consulting all the available on- and off-line resources. Only _then_ *might* you think about asking for help by posting a new question to StackOverflow or asking the lecturer.\n",
    "\n",
    "The largest website/community/forum online that programmers from all over the world (and regardless of the technology/programming language they are using) consult daily is **StackOverflow**. The name itself is a nerdy inside joke to a *bad* situation in programming:\n",
    "\n",
    ">When a program attempts to use more space than is available on the call stack... the stack is said to overflow, typically resulting in a program crash. (source: [Wikipedia](https://en.wikipedia.org/wiki/Stack_overflow) )\n",
    "\n",
    "This is nearly always the _first_ resource that you want to consult when your code is not behaving as expected. For a quick overview of it's features refer directly to [StackOverflow's intro section](http://stackoverflow.com/tour). In order to maximise your chances of success (and to avoid flooding the board with unclear and repetitive questions) read the [How do I ask a good question?](http://stackoverflow.com/help/how-to-ask) section and  always refer to the [Help Center](http://stackoverflow.com/help/asking).\n",
    "\n",
    "This is not meant to put you off in any way, but rather to let you know from the first moment what is the appropriate Netiquette and accetable code of conduct that will make you stand out as competent programmer, even when you are asking for help."
   ]
  },
  {
   "cell_type": "markdown",
   "metadata": {},
   "source": [
    "## Code (Applied Geo-example)"
   ]
  },
  {
   "cell_type": "markdown",
   "metadata": {},
   "source": [
    "If in the previous notebook we didn't even leave the UK, this time we'll fly to the remote [Null Island](https://en.wikipedia.org/wiki/Null_Island).\n",
    "\n",
    "![Photo of Null Island](http://www.nullisland.com/Images/NullIsland.jpg)\n",
    "\n",
    "From the official [Tourist Office](http://www.nullisland.com/) web site:\n",
    "   \n",
    "> The Republic of Null Island\t \n",
    "> *LIKE NO PLACE ON EARTH!*\n",
    "\n",
    "In order to get there, you'll have to first solve the exercise, avoiding those pesky *Syntax Errors* and *Exceptions*! You'll also need to pay attention the clues provided by how we've formatted the code itself: "
   ]
  },
  {
   "cell_type": "code",
   "execution_count": null,
   "metadata": {
    "collapsed": false
   },
   "outputs": [],
   "source": [
    "longitude = ???(0.0)\n",
    "latitude ??? str(0.0)\n",
    "\n",
    "# Null Island location\n",
    "null_island_position = \"https://www.openstreetmap.org/\" + \n",
    "    \"?mlat=\" + ??? +\n",
    "    \"&mlon=\" + longitude + \n",
    "    \"#map=5/\"+ latitude + \"/\" + longitude\n",
    "          \n",
    "prnt( null_island_position )"
   ]
  },
  {
   "cell_type": "markdown",
   "metadata": {},
   "source": [
    "_Notice_ how you can make it easier for someone to read a really long string by breaking it across several lines. As long you end the line with the `+`, Python will assume that the next line is a continuation of the current one and _even_ allow you to indent it to improve the formatting."
   ]
  },
  {
   "cell_type": "markdown",
   "metadata": {},
   "source": [
    "**Congratulations on your finishing you second lesson, and enjoy your trip to the beautiful Null Island!*** \n",
    "\n",
    "\n"
   ]
  },
  {
   "cell_type": "markdown",
   "metadata": {},
   "source": [
    "To conclude: remember to always read the output, and try to understand what Python is telling you. You might learn a lot from these simple messages! "
   ]
  },
  {
   "cell_type": "markdown",
   "metadata": {},
   "source": [
    "### Further references:\n",
    "\n",
    "\n",
    "For more information on the island you might watch this [short video](https://motherboard.vice.com/read/a-journey-to-the-center-of-null-island). \n",
    "\n",
    "If you are on Twitter, don't forget to follow the [Null Island buoy](https://twitter.com/NullIslandBuoy)!\n",
    "\n",
    "\n",
    "General list or resources\n",
    "- [Awesome list of resources](https://github.com/vinta/awesome-python)\n",
    "- [Python Docs](https://docs.python.org/2.7/tutorial/introduction.html)\n",
    "- [HitchHiker's guide to Python](http://docs.python-guide.org/en/latest/intro/learning/)\n",
    "- [Python for Informatics](http://www.pythonlearn.com/book_007.pdf)\n",
    "- [Learn Python the Hard Way](http://learnpythonthehardway.org/book/)\n",
    "- [CodeAcademy](https://www.codecademy.com/learn/python)\n",
    "\n"
   ]
  }
 ],
 "metadata": {
  "anaconda-cloud": {},
  "kernelspec": {
   "display_name": "Python [Root]",
   "language": "python",
   "name": "Python [Root]"
  },
  "language_info": {
   "codemirror_mode": {
    "name": "ipython",
    "version": 2
   },
   "file_extension": ".py",
   "mimetype": "text/x-python",
   "name": "python",
   "nbconvert_exporter": "python",
   "pygments_lexer": "ipython2",
   "version": "2.7.12"
  }
 },
 "nbformat": 4,
 "nbformat_minor": 0
}
