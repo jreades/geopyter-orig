{
 "cells": [
  {
   "cell_type": "markdown",
   "metadata": {},
   "source": [
    "# Learning a (New) Language\n",
    "- Contributors: Michele Ferretti (https://github.com/miccferr); Jon Reades (https://github.com/jreades); James Millington (https://github.com/jamesdamillington)"
   ]
  },
  {
   "cell_type": "markdown",
   "metadata": {},
   "source": [
    "## Mathematics is a Language, so is Code\n",
    "\n",
    "There are obviously many ways that you can calculate the mean (also known as the _average_ if your maths is a little rusty): in your head, using pencil and paper, on a calculator, in Excel... and, of course, using code! For a small set of simple numbers, using your brain is going to be a lot faster than typing it into a calculator or computer.\n",
    "\n",
    "_Quick_, what's the mean of: `1, 2, 3, 4`?\n",
    "\n",
    "### Now try doing this with code!\n",
    "\n",
    "In the area immediately below this sentence you should see something like \"<span style=\"color:blue\">In [ ]</span>\". On the right of this is an empty box into which you can type computer code. Do you remember how to calculate the mean using a set of numbers and a calculator? That's all we're doing now, it's just that we're doing it from a keyboard instead of a keypad. "
   ]
  },
  {
   "cell_type": "code",
   "execution_count": null,
   "metadata": {
    "collapsed": true
   },
   "outputs": [],
   "source": []
  },
  {
   "cell_type": "markdown",
   "metadata": {},
   "source": [
    "Type an 'equation' to calculate the mean of the four numbers above on the empty line right above this sentence and then click the 'play' button on the tool bar at the top of the window to run your first piece of Python code! If everything has gone well then you should see something like \"<span style=\"color:red\">Out [ ]</span>\" appear.\n",
    "\n",
    "_HINT: the 'play' button is the sideways-pointing triangle with a bar; it's usually right underneath the 'Cell' menu item. Or, you can also type Ctrl+Return (that's the Control button and the Return button simultaneously) to run the code when you've got your cursor in the code box._\n",
    "\n",
    "_HINT: Your equation should include the four numbers above with some `+` symbols and `(` and `)`, a `/` symbol, and another number._\n",
    "\n",
    "Did you get 2.5? Even if you typed the equation in correctly, you likely got the number 2 instead, which isn't what you expected and probably not what you meant. But for now the number 2 is what we are expecting your code output to have produced (keep reading...). \n",
    "\n",
    "This is something that we're going to come back to again and again: computers do exactly what you tell them to do, even if you tell them to do something that you later realise was silly."
   ]
  },
  {
   "cell_type": "markdown",
   "metadata": {},
   "source": [
    "## Silly is not stupid (learning languages is hard)\n",
    "\n",
    "This is really important: just because you told the computer to do something that you eventually realise was 'silly' does _not_ mean that _you_ are stupid. \n",
    "\n",
    "Did you ever try to learn a foreign language? Did you expect to be fluent after a couple of classes? Assuming that you had a realistic expectation of how far you'd get with French, Chinese, or English, then you probably figured it'd be a few years before you could even hold a conversation with someone else. So why would you expect to sit down at a computer and be able to hold a conversation with it (which is another way of thinking about what coding is) after reading a few pages of text and watching a YouTube video or two?\n",
    "\n",
    "You will need to give it time, you will need to get used to looking at the documentation, you will need to ask for help (this seems like a good time to introduce [Stack Overflow](http://stackoverflow.com/)), and you will need to persevere."
   ]
  },
  {
   "cell_type": "markdown",
   "metadata": {},
   "source": [
    "## Practice makes perfect\n",
    "\n",
    "Your language class (assuming that you took one) probably had a 'lab' where you practiced your new language and you probably made a lot of mistakes when you were getting started. It's the same for programming: the reason you got a 'silly' answer is that we haven't taught you how to ask the right question yet! For a language like Python \"`2`\" is not the same as \"`2.0`\"... With this information can you now guess what you might need to change in the 'coding block' above to get the right answer? Don't worry if you still can't get the right answer, how to 'talk numbers' is the main topic in the _next_ notebook.\n",
    "\n",
    "So, we want you to remember that there are no stupid questions when it comes to programming. We have _all_ been lost at one point or another! Your lecturers and instructors _frequently_ still ask for help (often by asking Google!), it's just that we do it for harder questions. And that's only because we have had a lot more practice in the language of programming. So the _only_ stupid thing you can do in this course is to assume that you can speed through the questions and don't have to practice or think through the technical aspects of coding. \n",
    "\n",
    "There are web sites that will give you answers (in fact, we're going to point you to some of them) but if you don't expend any effort in trying to understand how the code works, or if you just copy the answer off of your friend, that's the same as assuming you'll learn a foreign language just because you're setting next to a friend who is taking the same language course! _That_ is silly."
   ]
  },
  {
   "cell_type": "markdown",
   "metadata": {},
   "source": [
    "### When computers beat brains (or calculators)\n",
    "\n",
    "What makes a computer potentially _better_ than a calculator (or your brain) is that a computer isn't daunted by having to count lots of numbers and it doesn't need you to input each number individually! The computer can also do things like: \n",
    "\n",
    "- find out the amount of rain that fell in London, Manchester, and Edinburgh yesterday from an online weather service;\n",
    "- work out the average rainfall for these three cities; and then \n",
    "- work out the standard deviation for rainfall.\n",
    "\n",
    "And it can do all of this in a matter of milliseconds! It can also do the same for 3,000 cities just as eaisly; sure, it'll take a little bit longer, but it's the _same basic code_. \n",
    "\n",
    "In other words code is [scalable](https://en.wikipedia.org/wiki/Scalability) in a way that brains and calculators are not and that is a crucial difference.\n",
    "\n",
    "Here's a trivial example of when computer start to get better and faster than brains:"
   ]
  },
  {
   "cell_type": "code",
   "execution_count": null,
   "metadata": {
    "collapsed": true
   },
   "outputs": [],
   "source": [
    "(23495.23 + 9238832.657 + 2 + 12921)/4"
   ]
  }
 ],
 "metadata": {
  "anaconda-cloud": {},
  "kernelspec": {
   "display_name": "Python [Root]",
   "language": "python",
   "name": "Python [Root]"
  },
  "language_info": {
   "codemirror_mode": {
    "name": "ipython",
    "version": 2
   },
   "file_extension": ".py",
   "mimetype": "text/x-python",
   "name": "python",
   "nbconvert_exporter": "python",
   "pygments_lexer": "ipython2",
   "version": "2.7.12"
  }
 },
 "nbformat": 4,
 "nbformat_minor": 0
}
