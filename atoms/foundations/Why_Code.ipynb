{
 "cells": [
  {
   "cell_type": "markdown",
   "metadata": {},
   "source": [
    "# Why Learn to Code?\n",
    "\n",
    "- Contributors: Michele Ferretti (https://github.com/miccferr); Jon Reades (https://github.com/jreades); James Millington (https://github.com/jamesdamillington)"
   ]
  },
  {
   "cell_type": "markdown",
   "metadata": {},
   "source": [
    "## Programming and Geography \n",
    "\n",
    "The importance of programming for geographers – regardless of whether you consider yourself a human or physical geographer – is becoming increasingly clear given the emergence of what is being called 'computational social science' and the wide use of environmental modelling with computers. We are moving away from 'push button' spatial analysis; a big gap is opening up between the stuff that can be done by pushing buttons (which no longer even really requires geographical training) and the 'cutting edge'. We'll be pointing you to several pieces that argue this case, but here are a few to start with:\n",
    "\n",
    "* [Why the Future of Geography is Cheap](http://www.rgs.org/NR/rdonlyres/9A5CB6C8-CDE5-47AA-9577-0C7FA7765987/0/WhytheFutureofGeographyisCheap.pdf)\n",
    "* [GIS Jobs of Today](http://www.directionsmag.com/entry/gis-jobs-of-today-should-you-have-programming-skills/473296): should you have programming skills?"
   ]
  },
  {
   "cell_type": "markdown",
   "metadata": {},
   "source": [
    "## Why _you_ should learn to program\n",
    "\n",
    "Let's start with some good reasons why _you_ should learn to program a computer: \n",
    "\n",
    "[![Why You Should Learn How to Code](http://img.youtube.com/vi/UD2xoiCGTDo/0.jpg)](https://youtu.be/UD2xoiCGTDo)\n",
    "\n",
    "And here is a useful perspective on whether or not learning to code is hard:\n",
    "\n",
    "[![Why You Should Learn How to Code](http://img.youtube.com/vi/k7Txbdvzx90/0.jpg)](https://youtu.be/k7Txbdvzx90)\n",
    "\n",
    "Perhaps the best point here is that 'making money' is nice, but having a passion for what you want to _do_ with code is what's going to get you through the learning curve. And, no, you do not need to know advanced maths in order to learn how to code: you need to be able to think logically and to reframe your problems in ways that align _with_ the computer."
   ]
  },
  {
   "cell_type": "markdown",
   "metadata": {},
   "source": [
    "## Computers: good or bad?\n",
    "\n",
    "What are computers good at?\n",
    "- Doing the same thing over and over\n",
    "- Doing _exactly_ what they are told to do\n",
    "\n",
    "What are computers bad at?\n",
    "- Generating knowledge\n",
    "- Being creative\n",
    "\n",
    "There is a long-standing contest, called the Turing Test in honour of [the famous computer pioneer](https://en.wikipedia.org/wiki/Alan_Turing), that demonstrates this difference rather nicely: a computer passes the Turing test if it can fool a person into thinking that they're talking to another person. At the limit, people have claimed that if a computer can pass the Turing Test then we'll have to declare that machines have become full AIs (Artificial Intelligences). To put it another way: if it sounds like a human and responds like a human... then it's a human?\n",
    "\n",
    "Perhaps fortunately, althoug computers are getting a lot better at holding up their end of the conversation they still seem to have a hard time fooling anyone for very long. In contrast, bigger and better computers have now beat the best humans at Chess and Go, and are being used to help us understand earthquakes and climate change on a huge scale. Here, computers can do billions -- or trillions -- of calculations a second to work out that if 'A' happens then 'B' is the next most likely thing to happen, and so on and so on.\n",
    "\n",
    "The difference is that games like Go and Chess have well-understood rules, as do processes like climate change and (sort of) earthquakes. Chess is 'easier' for a computer than Go because a big enough computer can work out every possible chess move and pick the best one whereas it can't do that for Go and so has to make programmed 'choices' based on incomplete information. Earthquakes have even more 'rules', but they still (as far as know) follow _some_ set of fixed rules dictated by physics and chemistry. \n",
    "\n",
    "People, however, don't use the same unchanging rules in conversation. Yes, conversations have norms, unless you're using an online comment forum where it's normal to start a conversation by asking someone if they're an idiot, but people don't just 'play games' within the rules, they actually play with the rules themselves in a way that computers find very, very hard to follow. Think of sarcasm: you say one thing but it means exactly the opposite. And if it's delivered deadpan then sometimes even people have trouble knowing if you're being sincere!\n",
    "\n",
    "That's why AI has been twenty years away for the last sixty years! Recently, computers have been getting better and better at doing really difficult things, but it's usually still in a narrow area where we understand the rules and we normally need to spend a lot of time training the computer. \n",
    "\n",
    "#### More About the Turing Test\n",
    "Turing, A (1950), _Computing Machinery and Intelligence, Mind_ LIX (236): 433–460\n",
    "doi: [10.1093/mind/LIX.236.433](http://dx.doi.org/10.1093/mind/LIX.236.433), ISSN 0026-4423"
   ]
  },
  {
   "cell_type": "markdown",
   "metadata": {},
   "source": [
    "## The Benefits of Coding?\n",
    "\n",
    "In a research context we think that the benefits of learning to code fall into three categories:\n",
    "1. **Flexibility**: a computer can often apply the _same_ analytical process to a completely different data set (_e.g._ rainfall in UK vs rainfall in the US) with minimal effort compared to trying to do each step manually in, say, Excel or SPSS. For students it comes down to this: if you discover a newer, better data set half way through your dissertation and want to use this for your analysis instead of the old, inaccurate data, it's a lot easier and faster to update your analyses if you have used code to do the analysis to-date!\n",
    "2. **Reproducibility**: recently, it's been discovered that a lot of research cannot be reproduced. In other words, if one scientist tries to duplicate what someone else did in order to check something out (as is important in the scientific method) they're finding that the results don't line up. So a second example of why coding your data analysis for a dissertation: you've just finished your analysis when someone points out that you made a mistake with the data right back at the beginning; redoing all of that in Excel or SPSS would be a nightmare, but with code it can be as easy as changing one line and hitting 'Run'!\n",
    "3. **Scalability**: a computer doesn't care if you throw 10 lines or 10 billion lines at it, the only thing that changes is how long it takes to get an answer. In other words, if your code 'works' on a subset of your data it should also work on your entire data set no matter how big it is. This is also a good way to develop code: rather than try to read in the whole data set in one go while you're still trying to understand it, take a few rows and make sure you're handling _those_ ones correctly (and if what you see squares with what you were told) before expanding to larger and larger subsets.\n",
    "\n",
    "Often, the payoff for coding the answer to a problem instead of just clicking through the options in SPSS or Arc can seem a long way away. It's like learning a new language: you spend a lot of time asking directions to the train station or whether someone had a nice breakfast before you can start work on the novel or the business case. But the payoff _is_ there if you stick with it!"
   ]
  },
  {
   "cell_type": "markdown",
   "metadata": {},
   "source": [
    "## The 3 virtues of a programmer\n",
    "\n",
    "Another useful idea comes from [Larry Wall](https://en.wikipedia.org/wiki/Larry_Wall) (the man with the strong 'tache game below!), who created a programming language called Perl. Larry said that programmers had three virtues: Laziness, Hubris, and Impatience. \n",
    "\n",
    "<img src=\"http://cdn.quotationof.com/images/larry-wall-1.jpg\",width=\"250\">\n",
    "\n",
    "Some of the reasons that these are virtues in programming (but not in your studies!) are as follows:\n",
    "\n",
    "1. **Laziness** makes you want to put in the effort _now_ to reduce the amount of effort you'll have to put in _later_. So the effort that went into inventing the calculator in the first place (and in making it easy to use) meant that lots and lots of other people never had to do this stuff by hand or using slide rules.\n",
    "2. **Hubris** makes you want to write code that other people won't want to \"say bad things about\". In the course we'll get into what makes 'good' code in more detail, but the short version is: it's efficient, it's easy to read, and it's clever.\n",
    "3. **Impatience** is about wanting the answer _now_ and looking for ways to get there as quickly as possible. If you find yourself writing a lot of code to do _basic_ things from scratch, or waiting long periods of time for something that the computer should be able to do _quickly_ then you should be impatient. Chances are, you made a mistake in your code.\n",
    "\n",
    "**_Hint: you'll also see a lot of laziness when you start trying to write code. Programmers don't like writing `remove` when they could just write `rm`, nor do they like writing `define` when they could just write `def`. Keep an eye out for these mnemonics as they can be pretty daunting at first._**"
   ]
  },
  {
   "cell_type": "markdown",
   "metadata": {},
   "source": [
    "### The 3 false virtues\n",
    "\n",
    "Larry also pointed out that these virtues had three mirror-image false virtues:\n",
    "\n",
    "1. **False laziness** happens when you leave something working but half-finished and, most likely, about to break. When you start using [StackOverflow](http://www.stackoverflow.com/) you may find that it makes it easy to copy+paste answers into your notebook and then you can glue it together messily. This isn't the same as _understanding_ and _adapting_ the solution that you found online to _your_ problem, so it's false laziness. To really develop a learning mindset, [don't copy+paste code, type it out](https://medium.freecodecamp.com/the-benefits-of-typing-instead-of-copying-54ed734ad849#.es5mw1j0z). \n",
    "2. **False hubris** is thinking that no one else's code is 'good enough' for you. Sometimes copy+paste is false laziness, but refusing to recognise when copy+paste (or importing a library, more on this later) _is_ the right thing to do is false hubris.\n",
    "3. **False impatience** is getting started on coding your answer to a problem when you don't yet understand what the problem actually _is_. One thing that a lot of programmers do is half-listen to what someone has asked them to do and then go haring off without sitting down to make any kind of plan. It's like writing an essay without having done the readings. Nudge, nudge.\n",
    "\n",
    "There's a lot more thinking on this here: http://blog.teamtreehouse.com/the-programmers-virtues"
   ]
  },
  {
   "cell_type": "markdown",
   "metadata": {},
   "source": [
    "## Being a 'good' programmer\n",
    "\n",
    "The best way to be a 'good' programmer is to know when the computer can help you and when it will just get in the way. A computer cannot 'solve' a problem for you, but it _can_ help you to find the answer when you've told it what to look for and what rules to use in that search. A computer can only do _exactly_ what you tell it to do, so if you don't know what to do then the computer won't either.\n",
    "\n",
    "One of the founders of computing, [Charles Babbage](https://en.wikiquote.org/wiki/Charles_Babbage#Passages_from_the_Life_of_a_Philosopher_.281864.29) had this to say:\n",
    "\n",
    "> On two occasions I have been asked, — \"Pray, Mr. Babbage, if you put into the machine wrong figures, will the right answers come out?\" In one case a member of the Upper, and in the other a member of the Lower, House put this question. I am not able rightly to apprehend the kind of confusion of ideas that could provoke such a question.\n",
    "> _Passages from the Life of a Philosopher (1864), ch. 5 \"Difference Engine No. 1\"_\n",
    "\n",
    "Modern programmers call this: garbage in, garbage out. GIGO, for short.\n",
    "\n",
    "**_The single most important thing that you can learn is how to think abstractly about solving a problem in a way that you can communicate to a computer._** \n",
    "\n",
    "What we mean is this: the real power of the computer isn't figuring out how to add `1, 2, 3, 4` together and calculate the mean, it's figuring out how to add _any possible set of numbers_ together and get the computer to work out the mean. That's what we mean about abstraction: it's not solving the problem _once_, it's solving any set of related problems _at the same time_! \n",
    "\n",
    "These notebooks will get you started down that path, but remember: you're not stupid if you don't know how to explain things to the computer so that it can help you find the answer. You're still learning the basics of how to communicate with computers; there are two things that _are_ silly: the first is expecting to be able to run before you can walk; the second is copying and pasting answers without trying to understand _why_ they are answers."
   ]
  }
 ],
 "metadata": {
  "anaconda-cloud": {},
  "kernelspec": {
   "display_name": "Python [Root]",
   "language": "python",
   "name": "Python [Root]"
  },
  "language_info": {
   "codemirror_mode": {
    "name": "ipython",
    "version": 2
   },
   "file_extension": ".py",
   "mimetype": "text/x-python",
   "name": "python",
   "nbconvert_exporter": "python",
   "pygments_lexer": "ipython2",
   "version": "2.7.12"
  }
 },
 "nbformat": 4,
 "nbformat_minor": 0
}
