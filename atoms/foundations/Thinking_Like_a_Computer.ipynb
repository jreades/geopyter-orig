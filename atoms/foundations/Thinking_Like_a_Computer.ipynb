{
 "cells": [
  {
   "cell_type": "markdown",
   "metadata": {},
   "source": [
    "# Thinking Like a Computer\n",
    "\n",
    "- Contributors: Michele Ferretti (https://github.com/miccferr); Jon Reades (https://github.com/jreades); James Millington (https://github.com/jamesdamillington)"
   ]
  },
  {
   "cell_type": "markdown",
   "metadata": {},
   "source": [
    "## What _is_ a computer?\n",
    "\n",
    "At it's most basic, a computer is a programmable device for performing calculations.\n",
    "\n",
    "_This_ is a kind of computer.\n",
    "<img src=\"https://kingsgeocomputation.files.wordpress.com/2016/08/oldschool.png\",width=300>\n",
    "\n",
    "As is _this_.\n",
    "<img src=\"https://kingsgeocomputation.files.wordpress.com/2016/08/modern.png\",width=300>\n",
    "\n",
    "If you've never really got to grips with what is happening inside a computer, then this TedED video would be a good way to get started because it helps to explain the basics of things like I/O and what actually happens when you click with the mouse on a button. In fact, you will see that we've used code to import the YouTube video in a way that requires me to do very little work and this is one of the strengths of programming: that someone else created the code to embed a YouTube video into an iPython notebooks (which is what this web page is) and all I need to do is know how to ask that code to find the video on the YouTube web site. Everything else happens automatically."
   ]
  },
  {
   "cell_type": "markdown",
   "metadata": {},
   "source": [
    "### What's Going on Inside Your Computer?\n",
    "\n",
    "Let's find out through some videos – we've tried to pick ones that encompass a range of styles and levels, so we hope you'll find something that 'speaks to you' in here. If not, well Google and YouTube are your friends: we won't pretend to have all the answers and you might find by searching something that is right on your level. [This first video](http://www.youtube.com/watch?v=AkFi90lZmXA) is about what's going on inside your computer.\n",
    "\n",
    "[![What's Going On in There?](http://img.youtube.com/vi/AkFi90lZmXA/0.jpg)](http://www.youtube.com/watch?v=AkFi90lZmXA)"
   ]
  },
  {
   "cell_type": "markdown",
   "metadata": {},
   "source": [
    "### How a Computer Adds Numbers\n",
    "\n",
    "[This next video](http://www.youtube.com/watch?v=VBDoT8o4q00) is a little more technical and we don't really expect you to remember it, but it touches on a lot of really important concepts: binary numbers, Boolean logic, and how these basic building blocks are assembled into much more complex processes like adding numbers or, ultimately, manipulating data.\n",
    "\n",
    "[![IMAGE ALT TEXT HERE](http://img.youtube.com/vi/VBDoT8o4q00/0.jpg)](http://www.youtube.com/watch?v=VBDoT8o4q00)"
   ]
  },
  {
   "cell_type": "markdown",
   "metadata": {},
   "source": [
    "The really important thing to get from this last video is that computers are chaining together long sets of simple operations which always basically work out to 1 or 0, which is the same as True or False. This is [Boolean logic](http://computer.howstuffworks.com/boolean.htm) and we're going to be doing a lot more with it later in this set of sessions, but you should always keep in mind that a huge set of calculations are going on in your computer in an order specified by a set of _rules_: do 'A', then do 'B', then... When these rules become sufficiently complex they are called algorithms. And when they get so complicated that they are not easy to write down as a set of logical outputs, it's often easier to express in a more human-readable form... which is why we have [programming languages](http://www.computerhope.com/jargon/p/proglang.htm).\n",
    "\n",
    "But remember: finding the average of a set of numbers involves an algorithm (which in-turn in a digital comupter is based on lots of logical operations involving 1s and 0s). And calculating the probability that the lecturer won't show up to the first lecture also involves an algorithm, it's just that it's a much more complicated one unless you take matters into your own hands and arrange for an accident..."
   ]
  }
 ],
 "metadata": {
  "anaconda-cloud": {},
  "kernelspec": {
   "display_name": "Python [Root]",
   "language": "python",
   "name": "Python [Root]"
  },
  "language_info": {
   "codemirror_mode": {
    "name": "ipython",
    "version": 2
   },
   "file_extension": ".py",
   "mimetype": "text/x-python",
   "name": "python",
   "nbconvert_exporter": "python",
   "pygments_lexer": "ipython2",
   "version": "2.7.12"
  }
 },
 "nbformat": 4,
 "nbformat_minor": 0
}
