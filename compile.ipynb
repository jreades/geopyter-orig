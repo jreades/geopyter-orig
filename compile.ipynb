{
 "cells": [
  {
   "cell_type": "code",
   "execution_count": 1,
   "metadata": {
    "collapsed": false
   },
   "outputs": [],
   "source": [
    "from geopyter import core"
   ]
  },
  {
   "cell_type": "code",
   "execution_count": 2,
   "metadata": {
    "collapsed": false
   },
   "outputs": [
    {
     "name": "stdout",
     "output_type": "stream",
     "text": [
      "Instantiating: sessions/Getting_Oriented.ipynb\n",
      "Instantiating: foundations/Why_Code.ipynb\n",
      "Instantiating: foundations/Learning_a_Language.ipynb\n",
      "Instantiating: foundations/Python and R.ipynb\n",
      "Instantiating: foundations/Thinking_Like_a_Computer.ipynb\n"
     ]
    }
   ],
   "source": [
    "nb = core.NoteBook(\"sessions/Getting_Oriented.ipynb\")"
   ]
  },
  {
   "cell_type": "code",
   "execution_count": 3,
   "metadata": {
    "collapsed": false
   },
   "outputs": [
    {
     "name": "stdout",
     "output_type": "stream",
     "text": [
      "Importing all of Why Learn to Code?\n",
      "Importing all of Learning a (New) Language\n",
      "Importing all of Programming in Python\n",
      "Importing all of Thinking Like a Computer\n",
      "Composing content for sessions/Getting_Oriented.ipynb with 31 cells of new content.\n",
      "Getting credits: Contributors\n",
      "Getting credits: libs\n"
     ]
    }
   ],
   "source": [
    "nb.compile()"
   ]
  },
  {
   "cell_type": "code",
   "execution_count": 4,
   "metadata": {
    "collapsed": false
   },
   "outputs": [
    {
     "name": "stdout",
     "output_type": "stream",
     "text": [
      "Getting credits: Contributors\n",
      "Getting credits: libs\n"
     ]
    }
   ],
   "source": [
    "nb.write(fn='builds/Session 1 - Getting Oriented.ipynb')"
   ]
  }
 ],
 "metadata": {
  "anaconda-cloud": {},
  "kernelspec": {
   "display_name": "Python [Root]",
   "language": "python",
   "name": "Python [Root]"
  },
  "language_info": {
   "codemirror_mode": {
    "name": "ipython",
    "version": 2
   },
   "file_extension": ".py",
   "mimetype": "text/x-python",
   "name": "python",
   "nbconvert_exporter": "python",
   "pygments_lexer": "ipython2",
   "version": "2.7.12"
  }
 },
 "nbformat": 4,
 "nbformat_minor": 1
}
